{
 "cells": [
  {
   "cell_type": "markdown",
   "id": "929b6c63",
   "metadata": {},
   "source": [
    "## 1. Creating Arrays"
   ]
  },
  {
   "cell_type": "code",
   "execution_count": 1,
   "id": "0e60ed14",
   "metadata": {},
   "outputs": [],
   "source": [
    "import numpy as np"
   ]
  },
  {
   "cell_type": "code",
   "execution_count": 2,
   "id": "4c06f0e0",
   "metadata": {},
   "outputs": [
    {
     "data": {
      "text/plain": [
       "array([1, 2, 3])"
      ]
     },
     "execution_count": 2,
     "metadata": {},
     "output_type": "execute_result"
    }
   ],
   "source": [
    "# 1D\n",
    "a = np.array([1,2,3])\n",
    "a"
   ]
  },
  {
   "cell_type": "code",
   "execution_count": 4,
   "id": "93b04d5f",
   "metadata": {},
   "outputs": [
    {
     "data": {
      "text/plain": [
       "array([[1, 2, 3],\n",
       "       [4, 5, 6]])"
      ]
     },
     "execution_count": 4,
     "metadata": {},
     "output_type": "execute_result"
    }
   ],
   "source": [
    "# 2D\n",
    "b = np.array([[1,2,3], [4, 5, 6]])\n",
    "b"
   ]
  },
  {
   "cell_type": "code",
   "execution_count": 5,
   "id": "fc28fe4a",
   "metadata": {},
   "outputs": [
    {
     "data": {
      "text/plain": [
       "array([[0., 0., 0.],\n",
       "       [0., 0., 0.]])"
      ]
     },
     "execution_count": 5,
     "metadata": {},
     "output_type": "execute_result"
    }
   ],
   "source": [
    "# Array of zeros\n",
    "zeros = np.zeros((2,3))\n",
    "zeros"
   ]
  },
  {
   "cell_type": "code",
   "execution_count": 6,
   "id": "dfc04fcb",
   "metadata": {},
   "outputs": [
    {
     "data": {
      "text/plain": [
       "array([[1., 1., 1.],\n",
       "       [1., 1., 1.]])"
      ]
     },
     "execution_count": 6,
     "metadata": {},
     "output_type": "execute_result"
    }
   ],
   "source": [
    "# Array of ones\n",
    "ones = np.ones((2,3))\n",
    "ones"
   ]
  },
  {
   "cell_type": "code",
   "execution_count": 9,
   "id": "3e0465d7",
   "metadata": {},
   "outputs": [
    {
     "data": {
      "text/plain": [
       "array([0, 2, 4, 6, 8])"
      ]
     },
     "execution_count": 9,
     "metadata": {},
     "output_type": "execute_result"
    }
   ],
   "source": [
    "# Array with a range of values\n",
    "range_array = np.arange(0, 10, 2)\n",
    "range_array"
   ]
  },
  {
   "cell_type": "code",
   "execution_count": 10,
   "id": "b92248b2",
   "metadata": {},
   "outputs": [
    {
     "data": {
      "text/plain": [
       "array([0.  , 0.25, 0.5 , 0.75, 1.  ])"
      ]
     },
     "execution_count": 10,
     "metadata": {},
     "output_type": "execute_result"
    }
   ],
   "source": [
    "# Array with evenly spaced values\n",
    "linspace_array = np.linspace(0, 1, 5)\n",
    "linspace_array"
   ]
  },
  {
   "cell_type": "markdown",
   "id": "ae15b3dc",
   "metadata": {},
   "source": [
    "## 2.Array Attributes"
   ]
  },
  {
   "cell_type": "code",
   "execution_count": 11,
   "id": "a3961ff5",
   "metadata": {},
   "outputs": [
    {
     "name": "stdout",
     "output_type": "stream",
     "text": [
      "(3,)\n"
     ]
    }
   ],
   "source": [
    "print(a.shape)"
   ]
  },
  {
   "cell_type": "code",
   "execution_count": 12,
   "id": "e9f83eb0",
   "metadata": {},
   "outputs": [
    {
     "name": "stdout",
     "output_type": "stream",
     "text": [
      "2\n"
     ]
    }
   ],
   "source": [
    "print(b.ndim)"
   ]
  },
  {
   "cell_type": "code",
   "execution_count": 14,
   "id": "281e7174",
   "metadata": {},
   "outputs": [
    {
     "name": "stdout",
     "output_type": "stream",
     "text": [
      "int32\n"
     ]
    }
   ],
   "source": [
    "print(b.dtype)"
   ]
  },
  {
   "cell_type": "markdown",
   "id": "355c586c",
   "metadata": {},
   "source": [
    "## 3. Basic Operations"
   ]
  },
  {
   "cell_type": "code",
   "execution_count": 15,
   "id": "f5ba3711",
   "metadata": {},
   "outputs": [],
   "source": [
    "x = np.array([1,2,3])\n",
    "y = np.array([4,5,6])"
   ]
  },
  {
   "cell_type": "code",
   "execution_count": 16,
   "id": "7f043329",
   "metadata": {},
   "outputs": [
    {
     "name": "stdout",
     "output_type": "stream",
     "text": [
      "[5 7 9]\n"
     ]
    }
   ],
   "source": [
    "# Element-wise addition\n",
    "print(x+y)"
   ]
  },
  {
   "cell_type": "code",
   "execution_count": 17,
   "id": "0e882a20",
   "metadata": {},
   "outputs": [
    {
     "name": "stdout",
     "output_type": "stream",
     "text": [
      "[ 4 10 18]\n"
     ]
    }
   ],
   "source": [
    "# Element-wise multiplication\n",
    "print(x * y)"
   ]
  },
  {
   "cell_type": "code",
   "execution_count": 18,
   "id": "3f735df9",
   "metadata": {},
   "outputs": [
    {
     "name": "stdout",
     "output_type": "stream",
     "text": [
      "[1.         1.41421356 1.73205081]\n"
     ]
    }
   ],
   "source": [
    "# Universal functions\n",
    "print(np.sqrt(x))"
   ]
  },
  {
   "cell_type": "markdown",
   "id": "ca212680",
   "metadata": {},
   "source": [
    "## 4. Indexing and Slicing"
   ]
  },
  {
   "cell_type": "code",
   "execution_count": 19,
   "id": "bab5ef40",
   "metadata": {},
   "outputs": [],
   "source": [
    "arr = np.array([[1,2,3], [4,5,6]])"
   ]
  },
  {
   "cell_type": "code",
   "execution_count": 20,
   "id": "07212fb9",
   "metadata": {},
   "outputs": [
    {
     "name": "stdout",
     "output_type": "stream",
     "text": [
      "2\n"
     ]
    }
   ],
   "source": [
    "# Accessing elements\n",
    "print(arr[0, 1])"
   ]
  },
  {
   "cell_type": "code",
   "execution_count": 21,
   "id": "6c3c9c27",
   "metadata": {},
   "outputs": [
    {
     "name": "stdout",
     "output_type": "stream",
     "text": [
      "[2 5]\n"
     ]
    }
   ],
   "source": [
    "# Slicing\n",
    "print(arr[:, 1])"
   ]
  },
  {
   "cell_type": "code",
   "execution_count": 66,
   "id": "48595bfb",
   "metadata": {},
   "outputs": [
    {
     "name": "stdout",
     "output_type": "stream",
     "text": [
      "[10 30]\n"
     ]
    }
   ],
   "source": [
    "# Fancy indexing\n",
    "a = np.array([10, 20, 30, 40])\n",
    "print(a[[0, 2]])  # Output: [10 30]"
   ]
  },
  {
   "cell_type": "code",
   "execution_count": 67,
   "id": "90e8a795",
   "metadata": {},
   "outputs": [
    {
     "name": "stdout",
     "output_type": "stream",
     "text": [
      "40\n"
     ]
    }
   ],
   "source": [
    "# Negative indexing\n",
    "print(a[-1])  # Output: 40"
   ]
  },
  {
   "cell_type": "markdown",
   "id": "08867349",
   "metadata": {},
   "source": [
    "## 5. Boolean Masking"
   ]
  },
  {
   "cell_type": "code",
   "execution_count": 23,
   "id": "81122200",
   "metadata": {},
   "outputs": [
    {
     "name": "stdout",
     "output_type": "stream",
     "text": [
      "[4 5 6]\n"
     ]
    }
   ],
   "source": [
    "mask = arr > 3\n",
    "print(arr[mask])"
   ]
  },
  {
   "cell_type": "markdown",
   "id": "11f15e86",
   "metadata": {},
   "source": [
    "## 6. Reshaping Array"
   ]
  },
  {
   "cell_type": "code",
   "execution_count": 25,
   "id": "e6bcea24",
   "metadata": {},
   "outputs": [
    {
     "data": {
      "text/plain": [
       "array([[1, 2, 3],\n",
       "       [4, 5, 6]])"
      ]
     },
     "execution_count": 25,
     "metadata": {},
     "output_type": "execute_result"
    }
   ],
   "source": [
    "arr"
   ]
  },
  {
   "cell_type": "code",
   "execution_count": 24,
   "id": "0b55e196",
   "metadata": {},
   "outputs": [
    {
     "data": {
      "text/plain": [
       "array([[1, 2],\n",
       "       [3, 4],\n",
       "       [5, 6]])"
      ]
     },
     "execution_count": 24,
     "metadata": {},
     "output_type": "execute_result"
    }
   ],
   "source": [
    "reshaped = arr.reshape((3,2))\n",
    "reshaped"
   ]
  },
  {
   "cell_type": "markdown",
   "id": "fb10ef86",
   "metadata": {},
   "source": [
    "## 7. Stacking Array "
   ]
  },
  {
   "cell_type": "code",
   "execution_count": 26,
   "id": "4e5743b0",
   "metadata": {},
   "outputs": [],
   "source": [
    "a = np.array([1,2])\n",
    "b = np.array([3,4])"
   ]
  },
  {
   "cell_type": "code",
   "execution_count": 27,
   "id": "11e98513",
   "metadata": {},
   "outputs": [
    {
     "name": "stdout",
     "output_type": "stream",
     "text": [
      "[[1 2]\n",
      " [3 4]]\n"
     ]
    }
   ],
   "source": [
    "# Vertical stack\n",
    "print(np.vstack((a, b)))"
   ]
  },
  {
   "cell_type": "code",
   "execution_count": 28,
   "id": "6e919189",
   "metadata": {},
   "outputs": [
    {
     "name": "stdout",
     "output_type": "stream",
     "text": [
      "[1 2 3 4]\n"
     ]
    }
   ],
   "source": [
    "# Horizontal stack\n",
    "print(np.hstack((a, b)))"
   ]
  },
  {
   "cell_type": "markdown",
   "id": "687736f8",
   "metadata": {},
   "source": [
    "## 8. Splitting Array"
   ]
  },
  {
   "cell_type": "code",
   "execution_count": 3,
   "id": "e0a714ef",
   "metadata": {},
   "outputs": [
    {
     "data": {
      "text/plain": [
       "[array([[1, 2, 3]]), array([[4, 5, 6]])]"
      ]
     },
     "execution_count": 3,
     "metadata": {},
     "output_type": "execute_result"
    }
   ],
   "source": [
    "x = np.array([[1, 2, 3], [4, 5, 6]])\n",
    "np.hsplit(x, 3)    # Split into 3 columns\n",
    "np.vsplit(x, 2)    # Split into 2 rows"
   ]
  },
  {
   "cell_type": "markdown",
   "id": "a3a11840",
   "metadata": {},
   "source": [
    "## 9. Broadcasting"
   ]
  },
  {
   "cell_type": "code",
   "execution_count": 32,
   "id": "baf54e08",
   "metadata": {},
   "outputs": [
    {
     "name": "stdout",
     "output_type": "stream",
     "text": [
      "[1 2 3] next\n",
      "[[4]\n",
      " [5]\n",
      " [6]]\n"
     ]
    }
   ],
   "source": [
    "a = np.array([1,2,3])\n",
    "b = np.array([[4],[5],[6]])\n",
    "print(a, 'next')\n",
    "print(b)"
   ]
  },
  {
   "cell_type": "code",
   "execution_count": 33,
   "id": "1e2dd9d1",
   "metadata": {},
   "outputs": [
    {
     "name": "stdout",
     "output_type": "stream",
     "text": [
      "[[5 6 7]\n",
      " [6 7 8]\n",
      " [7 8 9]]\n"
     ]
    }
   ],
   "source": [
    "# Broadcasting addition\n",
    "print(a + b)"
   ]
  },
  {
   "cell_type": "markdown",
   "id": "045460bb",
   "metadata": {},
   "source": [
    "## 10. Linear Algebra Operations"
   ]
  },
  {
   "cell_type": "code",
   "execution_count": 34,
   "id": "fc9d7f3d",
   "metadata": {},
   "outputs": [],
   "source": [
    "from numpy.linalg import inv, eig, svd"
   ]
  },
  {
   "cell_type": "code",
   "execution_count": 35,
   "id": "d5b816cb",
   "metadata": {},
   "outputs": [
    {
     "data": {
      "text/plain": [
       "array([[1, 2],\n",
       "       [3, 4]])"
      ]
     },
     "execution_count": 35,
     "metadata": {},
     "output_type": "execute_result"
    }
   ],
   "source": [
    "matrix = np.array([[1,2], [3,4]])\n",
    "matrix"
   ]
  },
  {
   "cell_type": "code",
   "execution_count": 36,
   "id": "48ad64c2",
   "metadata": {},
   "outputs": [
    {
     "name": "stdout",
     "output_type": "stream",
     "text": [
      "[[-2.   1. ]\n",
      " [ 1.5 -0.5]]\n"
     ]
    }
   ],
   "source": [
    "# Inverse\n",
    "print(inv(matrix))"
   ]
  },
  {
   "cell_type": "code",
   "execution_count": 37,
   "id": "0581aae9",
   "metadata": {},
   "outputs": [],
   "source": [
    "# Eigenvalues and eigenvectors\n",
    "eigenvalues, eigenvectors = eig(matrix)"
   ]
  },
  {
   "cell_type": "code",
   "execution_count": 39,
   "id": "c8247710",
   "metadata": {},
   "outputs": [
    {
     "name": "stdout",
     "output_type": "stream",
     "text": [
      "[-0.37228132  5.37228132]\n"
     ]
    }
   ],
   "source": [
    "print(eigenvalues)"
   ]
  },
  {
   "cell_type": "code",
   "execution_count": 40,
   "id": "0cc3d297",
   "metadata": {},
   "outputs": [
    {
     "name": "stdout",
     "output_type": "stream",
     "text": [
      "[[-0.82456484 -0.41597356]\n",
      " [ 0.56576746 -0.90937671]]\n"
     ]
    }
   ],
   "source": [
    "print(eigenvectors)"
   ]
  },
  {
   "cell_type": "code",
   "execution_count": 41,
   "id": "d1f20114",
   "metadata": {},
   "outputs": [],
   "source": [
    "# Singular Value Decomposition\n",
    "U, S, V = svd(matrix)"
   ]
  },
  {
   "cell_type": "code",
   "execution_count": 43,
   "id": "28a9da72",
   "metadata": {},
   "outputs": [
    {
     "name": "stdout",
     "output_type": "stream",
     "text": [
      "[[-0.40455358 -0.9145143 ]\n",
      " [-0.9145143   0.40455358]]\n"
     ]
    }
   ],
   "source": [
    "print(U)"
   ]
  },
  {
   "cell_type": "code",
   "execution_count": 44,
   "id": "87ff9846",
   "metadata": {},
   "outputs": [
    {
     "name": "stdout",
     "output_type": "stream",
     "text": [
      "[5.4649857  0.36596619]\n"
     ]
    }
   ],
   "source": [
    "print(S)"
   ]
  },
  {
   "cell_type": "code",
   "execution_count": 45,
   "id": "d2e25285",
   "metadata": {},
   "outputs": [
    {
     "name": "stdout",
     "output_type": "stream",
     "text": [
      "[[-0.57604844 -0.81741556]\n",
      " [ 0.81741556 -0.57604844]]\n"
     ]
    }
   ],
   "source": [
    "print(V)"
   ]
  },
  {
   "cell_type": "code",
   "execution_count": 90,
   "id": "4ff4a2ad",
   "metadata": {},
   "outputs": [
    {
     "data": {
      "text/plain": [
       "array([[19, 22],\n",
       "       [43, 50]])"
      ]
     },
     "execution_count": 90,
     "metadata": {},
     "output_type": "execute_result"
    }
   ],
   "source": [
    "# Matrix Multiplication\n",
    "a = np.array([[1, 2], [3, 4]])\n",
    "b = np.array([[5, 6], [7, 8]])\n",
    "c = a @ b\n",
    "c"
   ]
  },
  {
   "cell_type": "code",
   "execution_count": 91,
   "id": "9d42b5c4",
   "metadata": {},
   "outputs": [
    {
     "data": {
      "text/plain": [
       "array([[19, 22],\n",
       "       [43, 50]])"
      ]
     },
     "execution_count": 91,
     "metadata": {},
     "output_type": "execute_result"
    }
   ],
   "source": [
    "# or \n",
    "np.dot(a, b)"
   ]
  },
  {
   "cell_type": "code",
   "execution_count": 93,
   "id": "a3d2aec0",
   "metadata": {},
   "outputs": [
    {
     "data": {
      "text/plain": [
       "array([[-2. ,  1. ],\n",
       "       [ 1.5, -0.5]])"
      ]
     },
     "execution_count": 93,
     "metadata": {},
     "output_type": "execute_result"
    }
   ],
   "source": [
    "# Matrix Inverse & Determinant\n",
    "from numpy.linalg import inv, det\n",
    "inv_a = inv(a)\n",
    "inv_a"
   ]
  },
  {
   "cell_type": "code",
   "execution_count": 94,
   "id": "fd5b8f43",
   "metadata": {},
   "outputs": [
    {
     "data": {
      "text/plain": [
       "-2.0000000000000004"
      ]
     },
     "execution_count": 94,
     "metadata": {},
     "output_type": "execute_result"
    }
   ],
   "source": [
    "det_a = det(a)\n",
    "det_a"
   ]
  },
  {
   "cell_type": "code",
   "execution_count": 95,
   "id": "78604cd9",
   "metadata": {},
   "outputs": [],
   "source": [
    "# Solve Linear Systems\n",
    "from numpy.linalg import solve\n",
    "x = solve(a, np.array([1, 0]))"
   ]
  },
  {
   "cell_type": "code",
   "execution_count": 96,
   "id": "20ecb0b1",
   "metadata": {},
   "outputs": [
    {
     "data": {
      "text/plain": [
       "array([-2. ,  1.5])"
      ]
     },
     "execution_count": 96,
     "metadata": {},
     "output_type": "execute_result"
    }
   ],
   "source": [
    "x"
   ]
  },
  {
   "cell_type": "markdown",
   "id": "cd7911f9",
   "metadata": {},
   "source": [
    "## 11. Random Number Generation"
   ]
  },
  {
   "cell_type": "code",
   "execution_count": 46,
   "id": "514328db",
   "metadata": {},
   "outputs": [],
   "source": [
    "# Random floats in [0.0, 1.0]\n",
    "random_floats = np.random.rand(3,2)"
   ]
  },
  {
   "cell_type": "code",
   "execution_count": 47,
   "id": "19a4bd10",
   "metadata": {},
   "outputs": [
    {
     "data": {
      "text/plain": [
       "array([[0.84618559, 0.26906208],\n",
       "       [0.58278334, 0.61929993],\n",
       "       [0.99855344, 0.12834408]])"
      ]
     },
     "execution_count": 47,
     "metadata": {},
     "output_type": "execute_result"
    }
   ],
   "source": [
    "random_floats"
   ]
  },
  {
   "cell_type": "code",
   "execution_count": 58,
   "id": "1657fee7",
   "metadata": {},
   "outputs": [],
   "source": [
    "# Random integers b/w 0 and 20\n",
    "random_integers = np.random.randint(0, 20, size= (3,2))"
   ]
  },
  {
   "cell_type": "code",
   "execution_count": 59,
   "id": "b64b5268",
   "metadata": {},
   "outputs": [
    {
     "data": {
      "text/plain": [
       "array([[16, 11],\n",
       "       [12, 15],\n",
       "       [ 7, 14]])"
      ]
     },
     "execution_count": 59,
     "metadata": {},
     "output_type": "execute_result"
    }
   ],
   "source": [
    "random_integers"
   ]
  },
  {
   "cell_type": "code",
   "execution_count": 97,
   "id": "2bcbc7fe",
   "metadata": {},
   "outputs": [],
   "source": [
    "# Generate Random Values\n",
    "import numpy as np"
   ]
  },
  {
   "cell_type": "code",
   "execution_count": 98,
   "id": "9eced193",
   "metadata": {},
   "outputs": [
    {
     "data": {
      "text/plain": [
       "array([[0.70807258, 0.02058449, 0.96990985],\n",
       "       [0.83244264, 0.21233911, 0.18182497]])"
      ]
     },
     "execution_count": 98,
     "metadata": {},
     "output_type": "execute_result"
    }
   ],
   "source": [
    "np.random.rand(2, 3)     # Uniform [0, 1)"
   ]
  },
  {
   "cell_type": "code",
   "execution_count": 99,
   "id": "e06b4c32",
   "metadata": {},
   "outputs": [
    {
     "data": {
      "text/plain": [
       "array([[-0.57138017, -0.92408284, -2.61254901],\n",
       "       [ 0.95036968,  0.81644508, -1.523876  ]])"
      ]
     },
     "execution_count": 99,
     "metadata": {},
     "output_type": "execute_result"
    }
   ],
   "source": [
    "np.random.randn(2, 3)    # Standard normal"
   ]
  },
  {
   "cell_type": "code",
   "execution_count": 100,
   "id": "df288c4d",
   "metadata": {},
   "outputs": [
    {
     "data": {
      "text/plain": [
       "array([[3, 7, 4],\n",
       "       [9, 3, 5]])"
      ]
     },
     "execution_count": 100,
     "metadata": {},
     "output_type": "execute_result"
    }
   ],
   "source": [
    "np.random.randint(1, 10, size=(2, 3))  # Integers"
   ]
  },
  {
   "cell_type": "code",
   "execution_count": 101,
   "id": "8ecf1b2f",
   "metadata": {},
   "outputs": [
    {
     "data": {
      "text/plain": [
       "array([30, 20, 10, 30, 30])"
      ]
     },
     "execution_count": 101,
     "metadata": {},
     "output_type": "execute_result"
    }
   ],
   "source": [
    "# Random Choice\n",
    "np.random.choice([10, 20, 30], size=5, p=[0.1, 0.3, 0.6])"
   ]
  },
  {
   "cell_type": "code",
   "execution_count": 105,
   "id": "b63e2416",
   "metadata": {},
   "outputs": [
    {
     "data": {
      "text/plain": [
       "array([0, 1, 2, 3, 4, 5, 6, 7, 8, 9])"
      ]
     },
     "execution_count": 105,
     "metadata": {},
     "output_type": "execute_result"
    }
   ],
   "source": [
    "# Shuffle and Permutation\n",
    "a = np.arange(10)\n",
    "a"
   ]
  },
  {
   "cell_type": "code",
   "execution_count": 103,
   "id": "b1ca2217",
   "metadata": {},
   "outputs": [],
   "source": [
    "np.random.shuffle(a)         # In-place"
   ]
  },
  {
   "cell_type": "code",
   "execution_count": 104,
   "id": "120a67c5",
   "metadata": {},
   "outputs": [
    {
     "data": {
      "text/plain": [
       "array([0, 5, 2, 6, 3, 7, 4, 9, 8, 1])"
      ]
     },
     "execution_count": 104,
     "metadata": {},
     "output_type": "execute_result"
    }
   ],
   "source": [
    "a"
   ]
  },
  {
   "cell_type": "code",
   "execution_count": 107,
   "id": "e5acc59c",
   "metadata": {},
   "outputs": [
    {
     "data": {
      "text/plain": [
       "array([0, 1, 2, 3, 4, 5, 6, 7, 8, 9])"
      ]
     },
     "execution_count": 107,
     "metadata": {},
     "output_type": "execute_result"
    }
   ],
   "source": [
    "np.random.permutation(a)     # Returns new array\n",
    "a"
   ]
  },
  {
   "cell_type": "code",
   "execution_count": 60,
   "id": "59ba2ab8",
   "metadata": {},
   "outputs": [],
   "source": [
    "# Setting seed for reproducibility\n",
    "np.random.seed(42)"
   ]
  },
  {
   "cell_type": "markdown",
   "id": "85897117",
   "metadata": {},
   "source": [
    "## 12. Normalize Rows of a Matrix"
   ]
  },
  {
   "cell_type": "code",
   "execution_count": 61,
   "id": "d67c2bff",
   "metadata": {},
   "outputs": [
    {
     "name": "stdout",
     "output_type": "stream",
     "text": [
      "[[0.29797254 0.75635891 0.58235175]\n",
      " [0.93830842 0.24453609 0.24449828]\n",
      " [0.05500741 0.82030212 0.56927903]]\n"
     ]
    }
   ],
   "source": [
    "def normalize_rows(x):\n",
    "    return x / np.linalg.norm(x, axis=1, keepdims=True)\n",
    "\n",
    "matrix = np.random.rand(3, 3)\n",
    "normalized_matrix = normalize_rows(matrix)\n",
    "print(normalized_matrix)"
   ]
  },
  {
   "cell_type": "markdown",
   "id": "51b84d62",
   "metadata": {},
   "source": [
    "## 13. Custom Universal Function"
   ]
  },
  {
   "cell_type": "code",
   "execution_count": 63,
   "id": "6afc4112",
   "metadata": {},
   "outputs": [
    {
     "name": "stdout",
     "output_type": "stream",
     "text": [
      "[ 4  9 16]\n"
     ]
    }
   ],
   "source": [
    "# Define a custom function\n",
    "def custom_func(x):\n",
    "    return x**2 + 2*x + 1\n",
    "\n",
    "#Vectorize the function\n",
    "vectorized_func = np.vectorize(custom_func)\n",
    "\n",
    "#Apply to array\n",
    "arr = np.array([1, 2, 3])\n",
    "print(vectorized_func(arr))\n",
    "#Output: [4 9 16]"
   ]
  },
  {
   "cell_type": "markdown",
   "id": "16146c16",
   "metadata": {},
   "source": [
    "## 14. Memory Efficiency: Views vs. Copies"
   ]
  },
  {
   "cell_type": "code",
   "execution_count": 64,
   "id": "7f1a011d",
   "metadata": {},
   "outputs": [
    {
     "name": "stdout",
     "output_type": "stream",
     "text": [
      "[100   1   2   3   4   5   6   7   8   9]\n"
     ]
    }
   ],
   "source": [
    "a = np.arange(10)\n",
    "b = a[::2]  # This is a view\n",
    "b[0] = 100\n",
    "print(a)    # Output: [100   1   2   3   4   5   6   7   8   9]"
   ]
  },
  {
   "cell_type": "markdown",
   "id": "09bd78a1",
   "metadata": {},
   "source": [
    "## 15. Advanced Indexing\n"
   ]
  },
  {
   "cell_type": "code",
   "execution_count": 65,
   "id": "2ea6d644",
   "metadata": {},
   "outputs": [
    {
     "name": "stdout",
     "output_type": "stream",
     "text": [
      "[2 3 6]\n"
     ]
    }
   ],
   "source": [
    "arr = np.array([[1, 2], [3, 4], [5, 6]])\n",
    "\n",
    "#Select elements at positions (0,1), (1,0), and (2,1)\n",
    "indices = ([0, 1, 2], [1, 0, 1])\n",
    "print(arr[indices])  # Output: [2 3 6]"
   ]
  },
  {
   "cell_type": "markdown",
   "id": "8b135283",
   "metadata": {},
   "source": [
    "## 16. Vectorization"
   ]
  },
  {
   "cell_type": "code",
   "execution_count": 72,
   "id": "48168a92",
   "metadata": {},
   "outputs": [],
   "source": [
    "# Loop\n",
    "a = [1, 2, 3, 4]\n",
    "b = [x**2 for x in a]"
   ]
  },
  {
   "cell_type": "code",
   "execution_count": 69,
   "id": "a3c54d53",
   "metadata": {},
   "outputs": [
    {
     "data": {
      "text/plain": [
       "[1, 2, 3, 4]"
      ]
     },
     "execution_count": 69,
     "metadata": {},
     "output_type": "execute_result"
    }
   ],
   "source": [
    "a"
   ]
  },
  {
   "cell_type": "code",
   "execution_count": 71,
   "id": "40327430",
   "metadata": {},
   "outputs": [
    {
     "data": {
      "text/plain": [
       "[1, 4, 9, 16]"
      ]
     },
     "execution_count": 71,
     "metadata": {},
     "output_type": "execute_result"
    }
   ],
   "source": [
    "b"
   ]
  },
  {
   "cell_type": "code",
   "execution_count": 73,
   "id": "a89b7ef1",
   "metadata": {},
   "outputs": [],
   "source": [
    "# Vectorization\n",
    "import numpy as np\n",
    "a = np.array([1, 2, 3, 4])\n",
    "b = a ** 2  # Vectorized"
   ]
  },
  {
   "cell_type": "code",
   "execution_count": 74,
   "id": "98dae061",
   "metadata": {},
   "outputs": [
    {
     "data": {
      "text/plain": [
       "array([1, 2, 3, 4])"
      ]
     },
     "execution_count": 74,
     "metadata": {},
     "output_type": "execute_result"
    }
   ],
   "source": [
    "a"
   ]
  },
  {
   "cell_type": "code",
   "execution_count": 75,
   "id": "f62ab404",
   "metadata": {},
   "outputs": [
    {
     "data": {
      "text/plain": [
       "array([ 1,  4,  9, 16])"
      ]
     },
     "execution_count": 75,
     "metadata": {},
     "output_type": "execute_result"
    }
   ],
   "source": [
    "b"
   ]
  },
  {
   "cell_type": "code",
   "execution_count": 76,
   "id": "18031c7f",
   "metadata": {},
   "outputs": [
    {
     "name": "stdout",
     "output_type": "stream",
     "text": [
      "76.6 ms ± 2.03 ms per loop (mean ± std. dev. of 7 runs, 10 loops each)\n",
      "302 µs ± 12.4 µs per loop (mean ± std. dev. of 7 runs, 1,000 loops each)\n"
     ]
    }
   ],
   "source": [
    "%timeit [x**2 for x in range(100000)]        # Slower\n",
    "%timeit np.arange(100000) ** 2               # Faster"
   ]
  },
  {
   "cell_type": "markdown",
   "id": "2cb03b17",
   "metadata": {},
   "source": [
    "## 17. C-order vs Fortran-order   "
   ]
  },
  {
   "cell_type": "code",
   "execution_count": 82,
   "id": "feeaf970",
   "metadata": {},
   "outputs": [
    {
     "data": {
      "text/plain": [
       "array([[1, 2],\n",
       "       [3, 4]])"
      ]
     },
     "execution_count": 82,
     "metadata": {},
     "output_type": "execute_result"
    }
   ],
   "source": [
    "a = np.array([[1, 2], [3, 4]], order='C')\n",
    "a"
   ]
  },
  {
   "cell_type": "code",
   "execution_count": 83,
   "id": "07b193fe",
   "metadata": {},
   "outputs": [
    {
     "data": {
      "text/plain": [
       "array([[1, 2],\n",
       "       [3, 4]])"
      ]
     },
     "execution_count": 83,
     "metadata": {},
     "output_type": "execute_result"
    }
   ],
   "source": [
    "b = np.array([[1, 2], [3, 4]], order='F')\n",
    "b"
   ]
  },
  {
   "cell_type": "code",
   "execution_count": 84,
   "id": "c0a219a1",
   "metadata": {},
   "outputs": [
    {
     "data": {
      "text/plain": [
       "array([[1, 2],\n",
       "       [3, 4]])"
      ]
     },
     "execution_count": 84,
     "metadata": {},
     "output_type": "execute_result"
    }
   ],
   "source": [
    "# view(): Shares memory   \n",
    "b = a.view()\n",
    "b"
   ]
  },
  {
   "cell_type": "code",
   "execution_count": 85,
   "id": "46073248",
   "metadata": {},
   "outputs": [
    {
     "data": {
      "text/plain": [
       "array([[1, 2],\n",
       "       [3, 4]])"
      ]
     },
     "execution_count": 85,
     "metadata": {},
     "output_type": "execute_result"
    }
   ],
   "source": [
    "# copy(): Independent data\n",
    "c = a.copy()\n",
    "c"
   ]
  },
  {
   "cell_type": "markdown",
   "id": "61ec801c",
   "metadata": {},
   "source": [
    "## 18. Memory Info"
   ]
  },
  {
   "cell_type": "code",
   "execution_count": 86,
   "id": "db05c948",
   "metadata": {},
   "outputs": [
    {
     "data": {
      "text/plain": [
       "array([[1, 2],\n",
       "       [3, 4]])"
      ]
     },
     "execution_count": 86,
     "metadata": {},
     "output_type": "execute_result"
    }
   ],
   "source": [
    "a = np.array([[1, 2], [3, 4]])\n",
    "a"
   ]
  },
  {
   "cell_type": "code",
   "execution_count": 87,
   "id": "0c4e1d7d",
   "metadata": {},
   "outputs": [
    {
     "name": "stdout",
     "output_type": "stream",
     "text": [
      "16\n"
     ]
    }
   ],
   "source": [
    "# nbytes: Total bytes consumed     \n",
    "print(a.nbytes)      # Total memory"
   ]
  },
  {
   "cell_type": "code",
   "execution_count": 88,
   "id": "d7587b1f",
   "metadata": {},
   "outputs": [
    {
     "name": "stdout",
     "output_type": "stream",
     "text": [
      "(8, 4)\n"
     ]
    }
   ],
   "source": [
    "# strides: Steps (in bytes) to move in each dimension\n",
    "print(a.strides)     # e.g., (16, 8)"
   ]
  },
  {
   "cell_type": "code",
   "execution_count": null,
   "id": "16432cde",
   "metadata": {},
   "outputs": [],
   "source": []
  }
 ],
 "metadata": {
  "kernelspec": {
   "display_name": "Python 3 (ipykernel)",
   "language": "python",
   "name": "python3"
  },
  "language_info": {
   "codemirror_mode": {
    "name": "ipython",
    "version": 3
   },
   "file_extension": ".py",
   "mimetype": "text/x-python",
   "name": "python",
   "nbconvert_exporter": "python",
   "pygments_lexer": "ipython3",
   "version": "3.8.18"
  }
 },
 "nbformat": 4,
 "nbformat_minor": 5
}
